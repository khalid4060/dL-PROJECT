{
  "nbformat": 4,
  "nbformat_minor": 0,
  "metadata": {
    "colab": {
      "name": "Untitled6.ipynb",
      "provenance": []
    },
    "kernelspec": {
      "name": "python3",
      "display_name": "Python 3"
    }
  },
  "cells": [
    {
      "cell_type": "code",
      "metadata": {
        "id": "qn08e-v2Jc2D",
        "colab_type": "code",
        "colab": {
          "base_uri": "https://localhost:8080/",
          "height": 35
        },
        "outputId": "aa83320d-e783-4fac-ac0f-0be1efe94e58"
      },
      "source": [
        "import keras\n",
        "import numpy as np\n",
        "import matplotlib.pyplot as plt\n",
        "import cv2\n",
        "import os\n",
        "from google.colab import files\n"
      ],
      "execution_count": null,
      "outputs": [
        {
          "output_type": "stream",
          "text": [
            "Using TensorFlow backend.\n"
          ],
          "name": "stderr"
        }
      ]
    },
    {
      "cell_type": "code",
      "metadata": {
        "id": "jvmCVbJLe-cP",
        "colab_type": "code",
        "colab": {}
      },
      "source": [
        "import pickle\n",
        "pik=open(\"/content/drive/My Drive/data/x_train.pickle\",\"rb\")\n",
        "x_train=pickle.load(pik)\n",
        "pikk=open(\"/content/drive/My Drive/data/y_train.pickle\",\"rb\")\n",
        "y_train=pickle.load(pikk)"
      ],
      "execution_count": null,
      "outputs": []
    },
    {
      "cell_type": "code",
      "metadata": {
        "id": "gBqI11eld1qx",
        "colab_type": "code",
        "colab": {
          "base_uri": "https://localhost:8080/",
          "height": 285
        },
        "outputId": "dc96b6e0-7a25-4260-bd4c-c0f02eddb766"
      },
      "source": [
        "plt.imshow(x_train[1])\n",
        "print(y_train[1])"
      ],
      "execution_count": null,
      "outputs": [
        {
          "output_type": "stream",
          "text": [
            "1\n"
          ],
          "name": "stdout"
        },
        {
          "output_type": "display_data",
          "data": {
            "image/png": "[encoded data removed]",
            "text/plain": [
              "<Figure size 432x288 with 1 Axes>"
            ]
          },
          "metadata": {
            "tags": [],
            "needs_background": "light"
          }
        }
      ]
    },
    {
      "cell_type": "code",
      "metadata": {
        "id": "1R2HmbbwU-Gp",
        "colab_type": "code",
        "colab": {}
      },
      "source": [
        "x_train=np.array(x_train).reshape(-1,50,50,1)\n",
        "#y_train=np.array(y_train)\n",
        "x_train=x_train/255\n",
        "#y_train=y_train/255"
      ],
      "execution_count": null,
      "outputs": []
    },
    {
      "cell_type": "code",
      "metadata": {
        "id": "Q30nw3SWjB54",
        "colab_type": "code",
        "colab": {}
      },
      "source": [
        "import keras\n",
        "import numpy as np"
      ],
      "execution_count": null,
      "outputs": []
    },
    {
      "cell_type": "code",
      "metadata": {
        "id": "5luo90TEkJ1Q",
        "colab_type": "code",
        "colab": {}
      },
      "source": [
        "from keras.models import Sequential\n",
        "from keras.layers import Dense, Activation,Flatten,Conv2D,MaxPooling2D,Dropout"
      ],
      "execution_count": null,
      "outputs": []
    },
    {
      "cell_type": "code",
      "metadata": {
        "id": "X7jwtJARSgsU",
        "colab_type": "code",
        "colab": {}
      },
      "source": [
        "from keras.callbacks import TensorBoard\n",
        "import datetime"
      ],
      "execution_count": null,
      "outputs": []
    },
    {
      "cell_type": "code",
      "metadata": {
        "id": "jeku11btSWrS",
        "colab_type": "code",
        "colab": {}
      },
      "source": [
        " logdir = os.path.join(\"logs\", datetime.datetime.now().strftime(\"%Y%m%d-%H%M%S\"))\n",
        " tensorboard = TensorBoard(logdir, histogram_freq=1)"
      ],
      "execution_count": null,
      "outputs": []
    },
    {
      "cell_type": "code",
      "metadata": {
        "id": "rBjZ5ZOSQG4A",
        "colab_type": "code",
        "colab": {
          "base_uri": "https://localhost:8080/",
          "height": 176
        },
        "outputId": "8d1871db-2201-4a1d-e950-6485fa808221"
      },
      "source": [
        "model=Sequential()\n",
        "model.add(Conv2D(64,(3,3),input_shape=x_train.shape[1:]))\n",
        "model.add(Activation(\"relu\"))\n",
        "model.add(MaxPooling2D(pool_size=(2,2)))\n",
        "model.add(Conv2D(64,(3,3)))\n",
        "model.add(Activation(\"relu\"))\n",
        "model.add(MaxPooling2D(pool_size=(2,2)))\n",
        "model.add(Flatten())\n",
        "model.add(Dense(64))\n",
        "model.add(Activation(\"relu\"))\n",
        "model.add(Dense(1))\n",
        "model.add(Activation(\"sigmoid\"))\n",
        "model.compile(loss=\"binary_crossentropy\",optimizer=\"adam\" ,metrics=[\"accuracy\"])\n",
        "model.fit(x_train, y_train, batch_size=32, epochs=3, validation_split=0.3,callbacks=[tensorboard])"
      ],
      "execution_count": null,
      "outputs": [
        {
          "output_type": "stream",
          "text": [
            "Train on 17462 samples, validate on 7484 samples\n",
            "Epoch 1/3\n",
            "17462/17462 [==============================] - 90s 5ms/step - loss: 0.6476 - accuracy: 0.6109 - val_loss: 0.5928 - val_accuracy: 0.6887\n",
            "Epoch 2/3\n",
            "17462/17462 [==============================] - 89s 5ms/step - loss: 0.5362 - accuracy: 0.7299 - val_loss: 0.5208 - val_accuracy: 0.7410\n",
            "Epoch 3/3\n",
            "17462/17462 [==============================] - 89s 5ms/step - loss: 0.4813 - accuracy: 0.7681 - val_loss: 0.5081 - val_accuracy: 0.7485\n"
          ],
          "name": "stdout"
        },
        {
          "output_type": "execute_result",
          "data": {
            "text/plain": [
              "<keras.callbacks.callbacks.History at 0x7f32293a7e10>"
            ]
          },
          "metadata": {
            "tags": []
          },
          "execution_count": 60
        }
      ]
    },
    {
      "cell_type": "code",
      "metadata": {
        "id": "8n783FOOdOxr",
        "colab_type": "code",
        "colab": {}
      },
      "source": [
        "def predic(file):\n",
        "  img=cv2.imread(file,cv2.IMREAD_GRAYSCALE)\n",
        "  img_arry=cv2.resize(img,(50,50))\n",
        "  return img_arry.reshape(-1,50,50,1)\n",
        "\n",
        "prec=model.predict([predic(\"/content/drive/My Drive/data/dog5.jpg\")])"
      ],
      "execution_count": null,
      "outputs": []
    },
    {
      "cell_type": "code",
      "metadata": {
        "id": "tv551pO8donw",
        "colab_type": "code",
        "colab": {
          "base_uri": "https://localhost:8080/",
          "height": 35
        },
        "outputId": "0d59cca4-1d7d-4d8a-e7ba-c7fc8cc6b6ac"
      },
      "source": [
        "cato=[\"dog\",\"cat\"]\n",
        "print(cato[int(prec)])"
      ],
      "execution_count": null,
      "outputs": [
        {
          "output_type": "stream",
          "text": [
            "dog\n"
          ],
          "name": "stdout"
        }
      ]
    },
    {
      "cell_type": "code",
      "metadata": {
        "id": "M9TqKbybR1eT",
        "colab_type": "code",
        "colab": {
          "base_uri": "https://localhost:8080/",
          "height": 35
        },
        "outputId": "807ccce9-69de-4ef4-81de-c6e7b04f9aad"
      },
      "source": [
        ""
      ],
      "execution_count": null,
      "outputs": [
        {
          "output_type": "stream",
          "text": [
            "UsageError: Line magic function `%tensorboard` not found.\n"
          ],
          "name": "stderr"
        }
      ]
    },
    {
      "cell_type": "code",
      "metadata": {
        "id": "yccH_PWkR1hl",
        "colab_type": "code",
        "colab": {}
      },
      "source": [
        ""
      ],
      "execution_count": null,
      "outputs": []
    }
  ]
}